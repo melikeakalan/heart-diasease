{
 "cells": [
  {
   "cell_type": "code",
   "execution_count": 1,
   "metadata": {},
   "outputs": [],
   "source": [
    "# Naive Bayes Application\n",
    "\n",
    "import numpy as np\n",
    "import matplotlib.pyplot as plt\n",
    "import pandas as pd\n",
    "\n",
    "from sklearn.model_selection import train_test_split"
   ]
  },
  {
   "cell_type": "code",
   "execution_count": 4,
   "metadata": {},
   "outputs": [
    {
     "data": {
      "text/html": [
       "<div>\n",
       "<style scoped>\n",
       "    .dataframe tbody tr th:only-of-type {\n",
       "        vertical-align: middle;\n",
       "    }\n",
       "\n",
       "    .dataframe tbody tr th {\n",
       "        vertical-align: top;\n",
       "    }\n",
       "\n",
       "    .dataframe thead th {\n",
       "        text-align: right;\n",
       "    }\n",
       "</style>\n",
       "<table border=\"1\" class=\"dataframe\">\n",
       "  <thead>\n",
       "    <tr style=\"text-align: right;\">\n",
       "      <th></th>\n",
       "      <th>age</th>\n",
       "      <th>sex</th>\n",
       "      <th>cp</th>\n",
       "      <th>trestbps</th>\n",
       "      <th>chol</th>\n",
       "      <th>fbs</th>\n",
       "      <th>restecg</th>\n",
       "      <th>thalach</th>\n",
       "      <th>exang</th>\n",
       "      <th>oldpeak</th>\n",
       "      <th>slope</th>\n",
       "      <th>ca</th>\n",
       "      <th>thal</th>\n",
       "      <th>target</th>\n",
       "    </tr>\n",
       "  </thead>\n",
       "  <tbody>\n",
       "    <tr>\n",
       "      <th>0</th>\n",
       "      <td>63</td>\n",
       "      <td>1</td>\n",
       "      <td>3</td>\n",
       "      <td>145</td>\n",
       "      <td>233</td>\n",
       "      <td>1</td>\n",
       "      <td>0</td>\n",
       "      <td>150</td>\n",
       "      <td>0</td>\n",
       "      <td>2.3</td>\n",
       "      <td>0</td>\n",
       "      <td>0</td>\n",
       "      <td>1</td>\n",
       "      <td>1</td>\n",
       "    </tr>\n",
       "    <tr>\n",
       "      <th>1</th>\n",
       "      <td>37</td>\n",
       "      <td>1</td>\n",
       "      <td>2</td>\n",
       "      <td>130</td>\n",
       "      <td>250</td>\n",
       "      <td>0</td>\n",
       "      <td>1</td>\n",
       "      <td>187</td>\n",
       "      <td>0</td>\n",
       "      <td>3.5</td>\n",
       "      <td>0</td>\n",
       "      <td>0</td>\n",
       "      <td>2</td>\n",
       "      <td>1</td>\n",
       "    </tr>\n",
       "    <tr>\n",
       "      <th>2</th>\n",
       "      <td>41</td>\n",
       "      <td>0</td>\n",
       "      <td>1</td>\n",
       "      <td>130</td>\n",
       "      <td>204</td>\n",
       "      <td>0</td>\n",
       "      <td>0</td>\n",
       "      <td>172</td>\n",
       "      <td>0</td>\n",
       "      <td>1.4</td>\n",
       "      <td>2</td>\n",
       "      <td>0</td>\n",
       "      <td>2</td>\n",
       "      <td>1</td>\n",
       "    </tr>\n",
       "    <tr>\n",
       "      <th>3</th>\n",
       "      <td>56</td>\n",
       "      <td>1</td>\n",
       "      <td>1</td>\n",
       "      <td>120</td>\n",
       "      <td>236</td>\n",
       "      <td>0</td>\n",
       "      <td>1</td>\n",
       "      <td>178</td>\n",
       "      <td>0</td>\n",
       "      <td>0.8</td>\n",
       "      <td>2</td>\n",
       "      <td>0</td>\n",
       "      <td>2</td>\n",
       "      <td>1</td>\n",
       "    </tr>\n",
       "    <tr>\n",
       "      <th>4</th>\n",
       "      <td>57</td>\n",
       "      <td>0</td>\n",
       "      <td>0</td>\n",
       "      <td>120</td>\n",
       "      <td>354</td>\n",
       "      <td>0</td>\n",
       "      <td>1</td>\n",
       "      <td>163</td>\n",
       "      <td>1</td>\n",
       "      <td>0.6</td>\n",
       "      <td>2</td>\n",
       "      <td>0</td>\n",
       "      <td>2</td>\n",
       "      <td>1</td>\n",
       "    </tr>\n",
       "  </tbody>\n",
       "</table>\n",
       "</div>"
      ],
      "text/plain": [
       "   age  sex  cp  trestbps  chol  fbs  restecg  thalach  exang  oldpeak  slope  \\\n",
       "0   63    1   3       145   233    1        0      150      0      2.3      0   \n",
       "1   37    1   2       130   250    0        1      187      0      3.5      0   \n",
       "2   41    0   1       130   204    0        0      172      0      1.4      2   \n",
       "3   56    1   1       120   236    0        1      178      0      0.8      2   \n",
       "4   57    0   0       120   354    0        1      163      1      0.6      2   \n",
       "\n",
       "   ca  thal  target  \n",
       "0   0     1       1  \n",
       "1   0     2       1  \n",
       "2   0     2       1  \n",
       "3   0     2       1  \n",
       "4   0     2       1  "
      ]
     },
     "execution_count": 4,
     "metadata": {},
     "output_type": "execute_result"
    }
   ],
   "source": [
    "# Importing the dataset\n",
    "dataset = pd.read_csv('data.csv')\n",
    "dataset.head()"
   ]
  },
  {
   "cell_type": "code",
   "execution_count": 5,
   "metadata": {},
   "outputs": [
    {
     "data": {
      "text/plain": [
       "array([[7.00e+01, 1.00e+00, 0.00e+00, 1.45e+02, 1.74e+02, 0.00e+00,\n",
       "        1.00e+00, 1.25e+02, 1.00e+00, 2.60e+00, 0.00e+00, 0.00e+00,\n",
       "        3.00e+00],\n",
       "       [6.40e+01, 1.00e+00, 3.00e+00, 1.70e+02, 2.27e+02, 0.00e+00,\n",
       "        0.00e+00, 1.55e+02, 0.00e+00, 6.00e-01, 1.00e+00, 0.00e+00,\n",
       "        3.00e+00],\n",
       "       [5.90e+01, 1.00e+00, 3.00e+00, 1.70e+02, 2.88e+02, 0.00e+00,\n",
       "        0.00e+00, 1.59e+02, 0.00e+00, 2.00e-01, 1.00e+00, 0.00e+00,\n",
       "        3.00e+00],\n",
       "       [6.00e+01, 1.00e+00, 0.00e+00, 1.25e+02, 2.58e+02, 0.00e+00,\n",
       "        0.00e+00, 1.41e+02, 1.00e+00, 2.80e+00, 1.00e+00, 1.00e+00,\n",
       "        3.00e+00],\n",
       "       [6.20e+01, 1.00e+00, 2.00e+00, 1.30e+02, 2.31e+02, 0.00e+00,\n",
       "        1.00e+00, 1.46e+02, 0.00e+00, 1.80e+00, 1.00e+00, 3.00e+00,\n",
       "        3.00e+00],\n",
       "       [4.80e+01, 1.00e+00, 0.00e+00, 1.24e+02, 2.74e+02, 0.00e+00,\n",
       "        0.00e+00, 1.66e+02, 0.00e+00, 5.00e-01, 1.00e+00, 0.00e+00,\n",
       "        3.00e+00],\n",
       "       [4.00e+01, 1.00e+00, 0.00e+00, 1.10e+02, 1.67e+02, 0.00e+00,\n",
       "        0.00e+00, 1.14e+02, 1.00e+00, 2.00e+00, 1.00e+00, 0.00e+00,\n",
       "        3.00e+00],\n",
       "       [6.30e+01, 1.00e+00, 0.00e+00, 1.30e+02, 2.54e+02, 0.00e+00,\n",
       "        0.00e+00, 1.47e+02, 0.00e+00, 1.40e+00, 1.00e+00, 1.00e+00,\n",
       "        3.00e+00],\n",
       "       [5.60e+01, 0.00e+00, 0.00e+00, 2.00e+02, 2.88e+02, 1.00e+00,\n",
       "        0.00e+00, 1.33e+02, 1.00e+00, 4.00e+00, 0.00e+00, 2.00e+00,\n",
       "        3.00e+00],\n",
       "       [6.30e+01, 1.00e+00, 0.00e+00, 1.30e+02, 3.30e+02, 1.00e+00,\n",
       "        0.00e+00, 1.32e+02, 1.00e+00, 1.80e+00, 2.00e+00, 3.00e+00,\n",
       "        3.00e+00],\n",
       "       [5.70e+01, 1.00e+00, 2.00e+00, 1.50e+02, 1.26e+02, 1.00e+00,\n",
       "        1.00e+00, 1.73e+02, 0.00e+00, 2.00e-01, 2.00e+00, 1.00e+00,\n",
       "        3.00e+00],\n",
       "       [4.90e+01, 0.00e+00, 0.00e+00, 1.30e+02, 2.69e+02, 0.00e+00,\n",
       "        1.00e+00, 1.63e+02, 0.00e+00, 0.00e+00, 2.00e+00, 0.00e+00,\n",
       "        2.00e+00],\n",
       "       [6.50e+01, 1.00e+00, 0.00e+00, 1.35e+02, 2.54e+02, 0.00e+00,\n",
       "        0.00e+00, 1.27e+02, 0.00e+00, 2.80e+00, 1.00e+00, 1.00e+00,\n",
       "        3.00e+00],\n",
       "       [4.90e+01, 1.00e+00, 1.00e+00, 1.30e+02, 2.66e+02, 0.00e+00,\n",
       "        1.00e+00, 1.71e+02, 0.00e+00, 6.00e-01, 2.00e+00, 0.00e+00,\n",
       "        2.00e+00],\n",
       "       [5.00e+01, 0.00e+00, 2.00e+00, 1.20e+02, 2.19e+02, 0.00e+00,\n",
       "        1.00e+00, 1.58e+02, 0.00e+00, 1.60e+00, 1.00e+00, 0.00e+00,\n",
       "        2.00e+00],\n",
       "       [5.10e+01, 1.00e+00, 2.00e+00, 1.00e+02, 2.22e+02, 0.00e+00,\n",
       "        1.00e+00, 1.43e+02, 1.00e+00, 1.20e+00, 1.00e+00, 0.00e+00,\n",
       "        2.00e+00],\n",
       "       [5.20e+01, 1.00e+00, 0.00e+00, 1.08e+02, 2.33e+02, 1.00e+00,\n",
       "        1.00e+00, 1.47e+02, 0.00e+00, 1.00e-01, 2.00e+00, 3.00e+00,\n",
       "        3.00e+00],\n",
       "       [4.80e+01, 1.00e+00, 2.00e+00, 1.24e+02, 2.55e+02, 1.00e+00,\n",
       "        1.00e+00, 1.75e+02, 0.00e+00, 0.00e+00, 2.00e+00, 2.00e+00,\n",
       "        2.00e+00],\n",
       "       [6.20e+01, 1.00e+00, 0.00e+00, 1.20e+02, 2.67e+02, 0.00e+00,\n",
       "        1.00e+00, 9.90e+01, 1.00e+00, 1.80e+00, 1.00e+00, 2.00e+00,\n",
       "        3.00e+00],\n",
       "       [4.20e+01, 1.00e+00, 2.00e+00, 1.20e+02, 2.40e+02, 1.00e+00,\n",
       "        1.00e+00, 1.94e+02, 0.00e+00, 8.00e-01, 0.00e+00, 0.00e+00,\n",
       "        3.00e+00],\n",
       "       [4.20e+01, 1.00e+00, 0.00e+00, 1.40e+02, 2.26e+02, 0.00e+00,\n",
       "        1.00e+00, 1.78e+02, 0.00e+00, 0.00e+00, 2.00e+00, 0.00e+00,\n",
       "        2.00e+00],\n",
       "       [3.90e+01, 1.00e+00, 0.00e+00, 1.18e+02, 2.19e+02, 0.00e+00,\n",
       "        1.00e+00, 1.40e+02, 0.00e+00, 1.20e+00, 1.00e+00, 0.00e+00,\n",
       "        3.00e+00],\n",
       "       [6.20e+01, 1.00e+00, 1.00e+00, 1.20e+02, 2.81e+02, 0.00e+00,\n",
       "        0.00e+00, 1.03e+02, 0.00e+00, 1.40e+00, 1.00e+00, 1.00e+00,\n",
       "        3.00e+00],\n",
       "       [5.40e+01, 1.00e+00, 0.00e+00, 1.10e+02, 2.06e+02, 0.00e+00,\n",
       "        0.00e+00, 1.08e+02, 1.00e+00, 0.00e+00, 1.00e+00, 1.00e+00,\n",
       "        2.00e+00],\n",
       "       [4.10e+01, 1.00e+00, 1.00e+00, 1.10e+02, 2.35e+02, 0.00e+00,\n",
       "        1.00e+00, 1.53e+02, 0.00e+00, 0.00e+00, 2.00e+00, 0.00e+00,\n",
       "        2.00e+00],\n",
       "       [6.20e+01, 0.00e+00, 2.00e+00, 1.30e+02, 2.63e+02, 0.00e+00,\n",
       "        1.00e+00, 9.70e+01, 0.00e+00, 1.20e+00, 1.00e+00, 1.00e+00,\n",
       "        3.00e+00],\n",
       "       [5.20e+01, 1.00e+00, 0.00e+00, 1.25e+02, 2.12e+02, 0.00e+00,\n",
       "        1.00e+00, 1.68e+02, 0.00e+00, 1.00e+00, 2.00e+00, 2.00e+00,\n",
       "        3.00e+00],\n",
       "       [4.60e+01, 1.00e+00, 0.00e+00, 1.20e+02, 2.49e+02, 0.00e+00,\n",
       "        0.00e+00, 1.44e+02, 0.00e+00, 8.00e-01, 2.00e+00, 0.00e+00,\n",
       "        3.00e+00],\n",
       "       [3.90e+01, 0.00e+00, 2.00e+00, 1.38e+02, 2.20e+02, 0.00e+00,\n",
       "        1.00e+00, 1.52e+02, 0.00e+00, 0.00e+00, 1.00e+00, 0.00e+00,\n",
       "        2.00e+00],\n",
       "       [5.20e+01, 1.00e+00, 1.00e+00, 1.34e+02, 2.01e+02, 0.00e+00,\n",
       "        1.00e+00, 1.58e+02, 0.00e+00, 8.00e-01, 2.00e+00, 1.00e+00,\n",
       "        2.00e+00],\n",
       "       [6.00e+01, 1.00e+00, 2.00e+00, 1.40e+02, 1.85e+02, 0.00e+00,\n",
       "        0.00e+00, 1.55e+02, 0.00e+00, 3.00e+00, 1.00e+00, 0.00e+00,\n",
       "        2.00e+00],\n",
       "       [4.50e+01, 1.00e+00, 0.00e+00, 1.42e+02, 3.09e+02, 0.00e+00,\n",
       "        0.00e+00, 1.47e+02, 1.00e+00, 0.00e+00, 1.00e+00, 3.00e+00,\n",
       "        3.00e+00],\n",
       "       [4.10e+01, 0.00e+00, 1.00e+00, 1.26e+02, 3.06e+02, 0.00e+00,\n",
       "        1.00e+00, 1.63e+02, 0.00e+00, 0.00e+00, 2.00e+00, 0.00e+00,\n",
       "        2.00e+00],\n",
       "       [5.20e+01, 1.00e+00, 2.00e+00, 1.72e+02, 1.99e+02, 1.00e+00,\n",
       "        1.00e+00, 1.62e+02, 0.00e+00, 5.00e-01, 2.00e+00, 0.00e+00,\n",
       "        3.00e+00],\n",
       "       [3.50e+01, 1.00e+00, 1.00e+00, 1.22e+02, 1.92e+02, 0.00e+00,\n",
       "        1.00e+00, 1.74e+02, 0.00e+00, 0.00e+00, 2.00e+00, 0.00e+00,\n",
       "        2.00e+00],\n",
       "       [5.90e+01, 0.00e+00, 0.00e+00, 1.74e+02, 2.49e+02, 0.00e+00,\n",
       "        1.00e+00, 1.43e+02, 1.00e+00, 0.00e+00, 1.00e+00, 0.00e+00,\n",
       "        2.00e+00],\n",
       "       [7.00e+01, 1.00e+00, 2.00e+00, 1.60e+02, 2.69e+02, 0.00e+00,\n",
       "        1.00e+00, 1.12e+02, 1.00e+00, 2.90e+00, 1.00e+00, 1.00e+00,\n",
       "        3.00e+00],\n",
       "       [4.50e+01, 1.00e+00, 1.00e+00, 1.28e+02, 3.08e+02, 0.00e+00,\n",
       "        0.00e+00, 1.70e+02, 0.00e+00, 0.00e+00, 2.00e+00, 0.00e+00,\n",
       "        2.00e+00],\n",
       "       [5.60e+01, 1.00e+00, 0.00e+00, 1.25e+02, 2.49e+02, 1.00e+00,\n",
       "        0.00e+00, 1.44e+02, 1.00e+00, 1.20e+00, 1.00e+00, 1.00e+00,\n",
       "        2.00e+00],\n",
       "       [6.20e+01, 0.00e+00, 0.00e+00, 1.40e+02, 2.68e+02, 0.00e+00,\n",
       "        0.00e+00, 1.60e+02, 0.00e+00, 3.60e+00, 0.00e+00, 2.00e+00,\n",
       "        2.00e+00],\n",
       "       [5.70e+01, 1.00e+00, 0.00e+00, 1.40e+02, 1.92e+02, 0.00e+00,\n",
       "        1.00e+00, 1.48e+02, 0.00e+00, 4.00e-01, 1.00e+00, 0.00e+00,\n",
       "        1.00e+00],\n",
       "       [5.70e+01, 0.00e+00, 0.00e+00, 1.28e+02, 3.03e+02, 0.00e+00,\n",
       "        0.00e+00, 1.59e+02, 0.00e+00, 0.00e+00, 2.00e+00, 1.00e+00,\n",
       "        2.00e+00],\n",
       "       [5.20e+01, 1.00e+00, 2.00e+00, 1.38e+02, 2.23e+02, 0.00e+00,\n",
       "        1.00e+00, 1.69e+02, 0.00e+00, 0.00e+00, 2.00e+00, 4.00e+00,\n",
       "        2.00e+00],\n",
       "       [4.70e+01, 1.00e+00, 0.00e+00, 1.10e+02, 2.75e+02, 0.00e+00,\n",
       "        0.00e+00, 1.18e+02, 1.00e+00, 1.00e+00, 1.00e+00, 1.00e+00,\n",
       "        2.00e+00],\n",
       "       [5.10e+01, 1.00e+00, 3.00e+00, 1.25e+02, 2.13e+02, 0.00e+00,\n",
       "        0.00e+00, 1.25e+02, 1.00e+00, 1.40e+00, 2.00e+00, 1.00e+00,\n",
       "        2.00e+00],\n",
       "       [7.00e+01, 1.00e+00, 1.00e+00, 1.56e+02, 2.45e+02, 0.00e+00,\n",
       "        0.00e+00, 1.43e+02, 0.00e+00, 0.00e+00, 2.00e+00, 0.00e+00,\n",
       "        2.00e+00],\n",
       "       [4.10e+01, 1.00e+00, 2.00e+00, 1.30e+02, 2.14e+02, 0.00e+00,\n",
       "        0.00e+00, 1.68e+02, 0.00e+00, 2.00e+00, 1.00e+00, 0.00e+00,\n",
       "        2.00e+00],\n",
       "       [5.00e+01, 1.00e+00, 2.00e+00, 1.40e+02, 2.33e+02, 0.00e+00,\n",
       "        1.00e+00, 1.63e+02, 0.00e+00, 6.00e-01, 1.00e+00, 1.00e+00,\n",
       "        3.00e+00],\n",
       "       [5.60e+01, 0.00e+00, 0.00e+00, 1.34e+02, 4.09e+02, 0.00e+00,\n",
       "        0.00e+00, 1.50e+02, 1.00e+00, 1.90e+00, 1.00e+00, 2.00e+00,\n",
       "        3.00e+00],\n",
       "       [4.40e+01, 1.00e+00, 1.00e+00, 1.20e+02, 2.63e+02, 0.00e+00,\n",
       "        1.00e+00, 1.73e+02, 0.00e+00, 0.00e+00, 2.00e+00, 0.00e+00,\n",
       "        3.00e+00],\n",
       "       [5.20e+01, 1.00e+00, 1.00e+00, 1.20e+02, 3.25e+02, 0.00e+00,\n",
       "        1.00e+00, 1.72e+02, 0.00e+00, 2.00e-01, 2.00e+00, 0.00e+00,\n",
       "        2.00e+00],\n",
       "       [7.40e+01, 0.00e+00, 1.00e+00, 1.20e+02, 2.69e+02, 0.00e+00,\n",
       "        0.00e+00, 1.21e+02, 1.00e+00, 2.00e-01, 2.00e+00, 1.00e+00,\n",
       "        2.00e+00],\n",
       "       [4.10e+01, 0.00e+00, 2.00e+00, 1.12e+02, 2.68e+02, 0.00e+00,\n",
       "        0.00e+00, 1.72e+02, 1.00e+00, 0.00e+00, 2.00e+00, 0.00e+00,\n",
       "        2.00e+00],\n",
       "       [4.10e+01, 1.00e+00, 1.00e+00, 1.35e+02, 2.03e+02, 0.00e+00,\n",
       "        1.00e+00, 1.32e+02, 0.00e+00, 0.00e+00, 1.00e+00, 0.00e+00,\n",
       "        1.00e+00],\n",
       "       [3.90e+01, 0.00e+00, 2.00e+00, 9.40e+01, 1.99e+02, 0.00e+00,\n",
       "        1.00e+00, 1.79e+02, 0.00e+00, 0.00e+00, 2.00e+00, 0.00e+00,\n",
       "        2.00e+00],\n",
       "       [3.50e+01, 1.00e+00, 0.00e+00, 1.20e+02, 1.98e+02, 0.00e+00,\n",
       "        1.00e+00, 1.30e+02, 1.00e+00, 1.60e+00, 1.00e+00, 0.00e+00,\n",
       "        3.00e+00],\n",
       "       [4.40e+01, 0.00e+00, 2.00e+00, 1.18e+02, 2.42e+02, 0.00e+00,\n",
       "        1.00e+00, 1.49e+02, 0.00e+00, 3.00e-01, 1.00e+00, 1.00e+00,\n",
       "        2.00e+00],\n",
       "       [5.70e+01, 0.00e+00, 1.00e+00, 1.30e+02, 2.36e+02, 0.00e+00,\n",
       "        0.00e+00, 1.74e+02, 0.00e+00, 0.00e+00, 1.00e+00, 1.00e+00,\n",
       "        2.00e+00],\n",
       "       [5.90e+01, 1.00e+00, 2.00e+00, 1.50e+02, 2.12e+02, 1.00e+00,\n",
       "        1.00e+00, 1.57e+02, 0.00e+00, 1.60e+00, 2.00e+00, 0.00e+00,\n",
       "        2.00e+00],\n",
       "       [5.00e+01, 0.00e+00, 1.00e+00, 1.20e+02, 2.44e+02, 0.00e+00,\n",
       "        1.00e+00, 1.62e+02, 0.00e+00, 1.10e+00, 2.00e+00, 0.00e+00,\n",
       "        2.00e+00],\n",
       "       [5.80e+01, 0.00e+00, 0.00e+00, 1.00e+02, 2.48e+02, 0.00e+00,\n",
       "        0.00e+00, 1.22e+02, 0.00e+00, 1.00e+00, 1.00e+00, 0.00e+00,\n",
       "        2.00e+00]])"
      ]
     },
     "execution_count": 5,
     "metadata": {},
     "output_type": "execute_result"
    }
   ],
   "source": [
    "# Splitting into training and test datasets\n",
    "\n",
    "X = dataset.iloc[:, :-1].values \n",
    "y = veriseti.iloc[:, -1].values\n",
    "X_train, X_test, y_train, y_test = train_test_split(X, y, test_size=0.20, random_state=0)\n",
    "X_test"
   ]
  },
  {
   "cell_type": "code",
   "execution_count": 6,
   "metadata": {},
   "outputs": [],
   "source": [
    "# attribute scaling\n",
    "\n",
    "from sklearn.preprocessing import MinMaxScaler\n",
    "scaler = MinMaxScaler()\n",
    "X_train = scaler.fit_transform(X_train)\n",
    "X_test = scaler.fit_transform(X_test)\n",
    "y_train = scaler.fit_transform(y_train.reshape(-1,1))\n",
    "y_test = scaler.fit_transform(y_test.reshape(-1,1))"
   ]
  },
  {
   "cell_type": "code",
   "execution_count": 7,
   "metadata": {},
   "outputs": [
    {
     "name": "stderr",
     "output_type": "stream",
     "text": [
      "C:\\Users\\adenon\\anaconda3\\lib\\site-packages\\sklearn\\utils\\validation.py:72: DataConversionWarning: A column-vector y was passed when a 1d array was expected. Please change the shape of y to (n_samples, ), for example using ravel().\n",
      "  return f(**kwargs)\n"
     ]
    },
    {
     "data": {
      "text/plain": [
       "GaussianNB()"
      ]
     },
     "execution_count": 7,
     "metadata": {},
     "output_type": "execute_result"
    }
   ],
   "source": [
    "from sklearn.naive_bayes import GaussianNB\n",
    "siniflandirici = GaussianNB()\n",
    "siniflandirici.fit(X_train, y_train)"
   ]
  },
  {
   "cell_type": "code",
   "execution_count": 8,
   "metadata": {},
   "outputs": [
    {
     "name": "stdout",
     "output_type": "stream",
     "text": [
      "              precision    recall  f1-score   support\n",
      "\n",
      "         0.0       0.71      0.81      0.76        27\n",
      "         1.0       0.83      0.74      0.78        34\n",
      "\n",
      "    accuracy                           0.77        61\n",
      "   macro avg       0.77      0.78      0.77        61\n",
      "weighted avg       0.78      0.77      0.77        61\n",
      "\n"
     ]
    }
   ],
   "source": [
    "y_pred = siniflandirici.predict(X_test)\n",
    "\n",
    "from sklearn.metrics import confusion_matrix, classification_report\n",
    "cm=confusion_matrix(y_test, y_pred)\n",
    "print(classification_report(y_test, y_pred))"
   ]
  },
  {
   "cell_type": "code",
   "execution_count": 9,
   "metadata": {},
   "outputs": [
    {
     "data": {
      "text/plain": [
       "<sklearn.metrics._plot.confusion_matrix.ConfusionMatrixDisplay at 0x174e5b67130>"
      ]
     },
     "execution_count": 9,
     "metadata": {},
     "output_type": "execute_result"
    },
    {
     "data": {
      "image/png": "[encoded data removed]",
      "text/plain": [
       "<Figure size 432x288 with 2 Axes>"
      ]
     },
     "metadata": {
      "needs_background": "light"
     },
     "output_type": "display_data"
    }
   ],
   "source": [
    "from sklearn.metrics import plot_confusion_matrix\n",
    "plot_confusion_matrix(siniflandirici, X_test, y_test)"
   ]
  },
  {
   "cell_type": "code",
   "execution_count": 10,
   "metadata": {},
   "outputs": [
    {
     "data": {
      "text/plain": [
       "array([[22,  5],\n",
       "       [ 9, 25]], dtype=int64)"
      ]
     },
     "execution_count": 10,
     "metadata": {},
     "output_type": "execute_result"
    }
   ],
   "source": [
    "cm=confusion_matrix(y_test,y_pred)\n",
    "cm"
   ]
  },
  {
   "cell_type": "code",
   "execution_count": 11,
   "metadata": {},
   "outputs": [
    {
     "data": {
      "text/plain": [
       "0.7704918032786885"
      ]
     },
     "execution_count": 11,
     "metadata": {},
     "output_type": "execute_result"
    }
   ],
   "source": [
    "(cm[0][0]+cm[1][1]) / X_test.shape[0]"
   ]
  },
  {
   "cell_type": "code",
   "execution_count": 12,
   "metadata": {},
   "outputs": [
    {
     "data": {
      "text/plain": [
       "0.7096774193548387"
      ]
     },
     "execution_count": 12,
     "metadata": {},
     "output_type": "execute_result"
    }
   ],
   "source": [
    "cm[0][0]/(cm[0][0]+cm[1][0])"
   ]
  },
  {
   "cell_type": "code",
   "execution_count": 13,
   "metadata": {},
   "outputs": [
    {
     "data": {
      "text/plain": [
       "0.8333333333333334"
      ]
     },
     "execution_count": 13,
     "metadata": {},
     "output_type": "execute_result"
    }
   ],
   "source": [
    "cm[1][1]/(cm[1][1]+cm[0][1])"
   ]
  },
  {
   "cell_type": "code",
   "execution_count": 14,
   "metadata": {},
   "outputs": [
    {
     "data": {
      "text/plain": [
       "0.8148148148148148"
      ]
     },
     "execution_count": 14,
     "metadata": {},
     "output_type": "execute_result"
    }
   ],
   "source": [
    "cm[0][0] / (cm[0][0]+cm[0][1])"
   ]
  },
  {
   "cell_type": "code",
   "execution_count": null,
   "metadata": {},
   "outputs": [],
   "source": []
  }
 ],
 "metadata": {
  "kernelspec": {
   "display_name": "Python 3",
   "language": "python",
   "name": "python3"
  },
  "language_info": {
   "codemirror_mode": {
    "name": "ipython",
    "version": 3
   },
   "file_extension": ".py",
   "mimetype": "text/x-python",
   "name": "python",
   "nbconvert_exporter": "python",
   "pygments_lexer": "ipython3",
   "version": "3.8.5"
  }
 },
 "nbformat": 4,
 "nbformat_minor": 4
}
